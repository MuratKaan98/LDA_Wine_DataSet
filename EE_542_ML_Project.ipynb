{
 "cells": [
  {
   "cell_type": "code",
   "execution_count": 2,
   "metadata": {},
   "outputs": [],
   "source": [
    "from sklearn.datasets import load_wine\n",
    "\n",
    "import pandas as pd  #data analysis and manipulation tool, DataFrame is a 2-dimensional labeled data structure with columns of potentially different types. \n",
    "\n",
    "import numpy as np   #fundamental package for scientific computing, Arrays in my project\n",
    "\n",
    "from matplotlib import pyplot as plt #Plotting package\n",
    "\n",
    "import seaborn as sns #Controlling figure aesthetics\n",
    "sns.set() #This is for fancy plotting\n",
    "\n",
    "from sklearn.preprocessing import LabelEncoder\n",
    "#I used wine dataset from sklearn.dataset library because there was a problem about using my own dataset which i created according to original wine dataset.\n",
    "\n",
    "#So wine.data means datas from original wine dataset. I removed unnecessary columns(classes) and rows(samples) to obtain two class, 'class_0' and 'class_1' which total they have 130 rows(samples). \n",
    "\n",
    "#Basically i manipulated the original wine dataset and created a new dataset for my own sake as wine1 dataset."
   ]
  },
  {
   "cell_type": "code",
   "execution_count": 3,
   "metadata": {},
   "outputs": [],
   "source": [
    "wine1 = pd.read_csv('Wine1.csv') # This is the csv file that i constructed. This dataset has two classes(\"class_0 and class_1\") and two features(\"alcohol\" and \"malic_acid\") \n",
    "wine = load_wine() #This is the original wine dataset. I choose this dataset because this dataset is widely used in this area and has so many cites."
   ]
  },
  {
   "cell_type": "code",
   "execution_count": 4,
   "metadata": {},
   "outputs": [
    {
     "name": "stderr",
     "output_type": "stream",
     "text": [
      "<ipython-input-4-07c74c09260a>:1: UserWarning: Pandas doesn't allow columns to be created via a new attribute name - see https://pandas.pydata.org/pandas-docs/stable/indexing.html#attribute-access\n",
      "  wine1.target_names = ('class_0', 'class_1')\n",
      "<ipython-input-4-07c74c09260a>:2: UserWarning: Pandas doesn't allow columns to be created via a new attribute name - see https://pandas.pydata.org/pandas-docs/stable/indexing.html#attribute-access\n",
      "  wine1.feature_names = ('alcohol','malic_acid')\n",
      "<ipython-input-4-07c74c09260a>:3: UserWarning: Pandas doesn't allow columns to be created via a new attribute name - see https://pandas.pydata.org/pandas-docs/stable/indexing.html#attribute-access\n",
      "  wine1.target = [0, 0, 0, 0, 0, 0, 0, 0, 0, 0, 0, 0, 0, 0, 0, 0, 0, 0, 0, 0, 0, 0,\n"
     ]
    }
   ],
   "source": [
    "wine1.target_names = ('class_0', 'class_1')  \n",
    "wine1.feature_names = ('alcohol','malic_acid')\n",
    "wine1.target = [0, 0, 0, 0, 0, 0, 0, 0, 0, 0, 0, 0, 0, 0, 0, 0, 0, 0, 0, 0, 0, 0,\n",
    "       0, 0, 0, 0, 0, 0, 0, 0, 0, 0, 0, 0, 0, 0, 0, 0, 0, 0, 0, 0, 0, 0,\n",
    "       0, 0, 0, 0, 0, 0, 0, 0, 0, 0, 0, 0, 0, 0, 0, 1, 1, 1, 1, 1, 1, 1,\n",
    "       1, 1, 1, 1, 1, 1, 1, 1, 1, 1, 1, 1, 1, 1, 1, 1, 1, 1, 1, 1, 1, 1,\n",
    "       1, 1, 1, 1, 1, 1, 1, 1, 1, 1, 1, 1, 1, 1, 1, 1, 1, 1, 1, 1, 1, 1,\n",
    "       1, 1, 1, 1, 1, 1, 1, 1, 1, 1, 1, 1, 1, 1, 1, 1, 1, 1, 1, 1]\n",
    "\n",
    "#In python if you import .csv files from your pc, you need to identify the target, target names, feature names and data on your own. \n",
    "#In this line python declares an error but it's not a problem for us. It's just a warning."
   ]
  },
  {
   "cell_type": "code",
   "execution_count": 5,
   "metadata": {},
   "outputs": [],
   "source": [
    "wine.data = np.delete(wine.data, [129,130,131,132,133,134,135,136,137,138,139,141,142,143,144,145,146,147,148,149,150,151,152,153,154,155,156,157,158,159,160,161,162,163,164,165,166,167,168,169,170,171,172,173,174,175,176,177], axis=0)\n",
    "\n",
    "#So what i did here is that i removed the \"class_2\" from original wine dataset. axis = 0 means all the ROWS in each COLUMN."
   ]
  },
  {
   "cell_type": "code",
   "execution_count": 6,
   "metadata": {},
   "outputs": [
    {
     "data": {
      "text/plain": [
       "(130, 13)"
      ]
     },
     "execution_count": 6,
     "metadata": {},
     "output_type": "execute_result"
    }
   ],
   "source": [
    "wine.data.shape\n",
    "\n",
    "#So original dataset now only has 130 rows i.e samples(Instances) ."
   ]
  },
  {
   "cell_type": "code",
   "execution_count": 7,
   "metadata": {},
   "outputs": [],
   "source": [
    "wine.data = np.delete(wine.data, [2,3,4,5,6,7,8,9,10,11,12], axis=1) \n",
    "\n",
    "#In this line i removed unnecessary(other classes) columns from the original wine dataset. axis = 1 means all the COLUMNS in each ROW ."
   ]
  },
  {
   "cell_type": "code",
   "execution_count": 8,
   "metadata": {},
   "outputs": [
    {
     "data": {
      "text/plain": [
       "(130, 2)"
      ]
     },
     "execution_count": 8,
     "metadata": {},
     "output_type": "execute_result"
    }
   ],
   "source": [
    "wine.data.shape\n",
    "\n",
    "#Now my desired dataset is ready."
   ]
  },
  {
   "cell_type": "code",
   "execution_count": 9,
   "metadata": {},
   "outputs": [
    {
     "name": "stderr",
     "output_type": "stream",
     "text": [
      "<ipython-input-9-ea25e5245b45>:1: UserWarning: Pandas doesn't allow columns to be created via a new attribute name - see https://pandas.pydata.org/pandas-docs/stable/indexing.html#attribute-access\n",
      "  wine1.data = wine.data\n"
     ]
    }
   ],
   "source": [
    "wine1.data = wine.data\n",
    "\n",
    "#So i assigned wine.data to wine1.data which i am going to use as my input space.\n",
    "#Again this is a warning. Code works fine with that too."
   ]
  },
  {
   "cell_type": "code",
   "execution_count": 10,
   "metadata": {},
   "outputs": [
    {
     "data": {
      "text/plain": [
       "(130, 2)"
      ]
     },
     "execution_count": 10,
     "metadata": {},
     "output_type": "execute_result"
    }
   ],
   "source": [
    "wine1.data.shape\n",
    "\n",
    "#Our wine1 dataset is ready."
   ]
  },
  {
   "cell_type": "code",
   "execution_count": 11,
   "metadata": {},
   "outputs": [],
   "source": [
    "X = pd.DataFrame(wine1.data, columns=wine1.feature_names)\n",
    "Y = pd.Categorical.from_codes(wine1.target, wine1.target_names)\n",
    "\n",
    "#In here, i assign those variables from .csv file to my wine1 dataset.\n",
    "#DataFrame is a 2-dimensional labeled data structure with columns of potentially different types. "
   ]
  },
  {
   "cell_type": "code",
   "execution_count": 12,
   "metadata": {},
   "outputs": [
    {
     "data": {
      "text/html": [
       "<div>\n",
       "<style scoped>\n",
       "    .dataframe tbody tr th:only-of-type {\n",
       "        vertical-align: middle;\n",
       "    }\n",
       "\n",
       "    .dataframe tbody tr th {\n",
       "        vertical-align: top;\n",
       "    }\n",
       "\n",
       "    .dataframe thead th {\n",
       "        text-align: right;\n",
       "    }\n",
       "</style>\n",
       "<table border=\"1\" class=\"dataframe\">\n",
       "  <thead>\n",
       "    <tr style=\"text-align: right;\">\n",
       "      <th></th>\n",
       "      <th>alcohol</th>\n",
       "      <th>malic_acid</th>\n",
       "    </tr>\n",
       "  </thead>\n",
       "  <tbody>\n",
       "    <tr>\n",
       "      <th>0</th>\n",
       "      <td>14.23</td>\n",
       "      <td>1.71</td>\n",
       "    </tr>\n",
       "    <tr>\n",
       "      <th>1</th>\n",
       "      <td>13.20</td>\n",
       "      <td>1.78</td>\n",
       "    </tr>\n",
       "    <tr>\n",
       "      <th>2</th>\n",
       "      <td>13.16</td>\n",
       "      <td>2.36</td>\n",
       "    </tr>\n",
       "    <tr>\n",
       "      <th>3</th>\n",
       "      <td>14.37</td>\n",
       "      <td>1.95</td>\n",
       "    </tr>\n",
       "    <tr>\n",
       "      <th>4</th>\n",
       "      <td>13.24</td>\n",
       "      <td>2.59</td>\n",
       "    </tr>\n",
       "    <tr>\n",
       "      <th>...</th>\n",
       "      <td>...</td>\n",
       "      <td>...</td>\n",
       "    </tr>\n",
       "    <tr>\n",
       "      <th>125</th>\n",
       "      <td>12.07</td>\n",
       "      <td>2.16</td>\n",
       "    </tr>\n",
       "    <tr>\n",
       "      <th>126</th>\n",
       "      <td>12.43</td>\n",
       "      <td>1.53</td>\n",
       "    </tr>\n",
       "    <tr>\n",
       "      <th>127</th>\n",
       "      <td>11.79</td>\n",
       "      <td>2.13</td>\n",
       "    </tr>\n",
       "    <tr>\n",
       "      <th>128</th>\n",
       "      <td>12.37</td>\n",
       "      <td>1.63</td>\n",
       "    </tr>\n",
       "    <tr>\n",
       "      <th>129</th>\n",
       "      <td>12.93</td>\n",
       "      <td>2.81</td>\n",
       "    </tr>\n",
       "  </tbody>\n",
       "</table>\n",
       "<p>130 rows × 2 columns</p>\n",
       "</div>"
      ],
      "text/plain": [
       "     alcohol  malic_acid\n",
       "0      14.23        1.71\n",
       "1      13.20        1.78\n",
       "2      13.16        2.36\n",
       "3      14.37        1.95\n",
       "4      13.24        2.59\n",
       "..       ...         ...\n",
       "125    12.07        2.16\n",
       "126    12.43        1.53\n",
       "127    11.79        2.13\n",
       "128    12.37        1.63\n",
       "129    12.93        2.81\n",
       "\n",
       "[130 rows x 2 columns]"
      ]
     },
     "execution_count": 12,
     "metadata": {},
     "output_type": "execute_result"
    }
   ],
   "source": [
    "X\n",
    "#Now we have 2 classes(columns) and 130 samples(rows)."
   ]
  },
  {
   "cell_type": "code",
   "execution_count": 13,
   "metadata": {},
   "outputs": [
    {
     "data": {
      "text/plain": [
       "['class_0', 'class_0', 'class_0', 'class_0', 'class_0', ..., 'class_1', 'class_1', 'class_1', 'class_1', 'class_1']\n",
       "Length: 130\n",
       "Categories (2, object): ['class_0', 'class_1']"
      ]
     },
     "execution_count": 13,
     "metadata": {},
     "output_type": "execute_result"
    }
   ],
   "source": [
    "Y"
   ]
  },
  {
   "cell_type": "code",
   "execution_count": 14,
   "metadata": {},
   "outputs": [
    {
     "data": {
      "text/html": [
       "<div>\n",
       "<style scoped>\n",
       "    .dataframe tbody tr th:only-of-type {\n",
       "        vertical-align: middle;\n",
       "    }\n",
       "\n",
       "    .dataframe tbody tr th {\n",
       "        vertical-align: top;\n",
       "    }\n",
       "\n",
       "    .dataframe thead th {\n",
       "        text-align: right;\n",
       "    }\n",
       "</style>\n",
       "<table border=\"1\" class=\"dataframe\">\n",
       "  <thead>\n",
       "    <tr style=\"text-align: right;\">\n",
       "      <th></th>\n",
       "      <th>alcohol</th>\n",
       "      <th>malic_acid</th>\n",
       "      <th>class</th>\n",
       "    </tr>\n",
       "  </thead>\n",
       "  <tbody>\n",
       "    <tr>\n",
       "      <th>0</th>\n",
       "      <td>14.23</td>\n",
       "      <td>1.71</td>\n",
       "      <td>class_0</td>\n",
       "    </tr>\n",
       "    <tr>\n",
       "      <th>1</th>\n",
       "      <td>13.20</td>\n",
       "      <td>1.78</td>\n",
       "      <td>class_0</td>\n",
       "    </tr>\n",
       "    <tr>\n",
       "      <th>2</th>\n",
       "      <td>13.16</td>\n",
       "      <td>2.36</td>\n",
       "      <td>class_0</td>\n",
       "    </tr>\n",
       "    <tr>\n",
       "      <th>3</th>\n",
       "      <td>14.37</td>\n",
       "      <td>1.95</td>\n",
       "      <td>class_0</td>\n",
       "    </tr>\n",
       "    <tr>\n",
       "      <th>4</th>\n",
       "      <td>13.24</td>\n",
       "      <td>2.59</td>\n",
       "      <td>class_0</td>\n",
       "    </tr>\n",
       "    <tr>\n",
       "      <th>...</th>\n",
       "      <td>...</td>\n",
       "      <td>...</td>\n",
       "      <td>...</td>\n",
       "    </tr>\n",
       "    <tr>\n",
       "      <th>125</th>\n",
       "      <td>12.07</td>\n",
       "      <td>2.16</td>\n",
       "      <td>class_1</td>\n",
       "    </tr>\n",
       "    <tr>\n",
       "      <th>126</th>\n",
       "      <td>12.43</td>\n",
       "      <td>1.53</td>\n",
       "      <td>class_1</td>\n",
       "    </tr>\n",
       "    <tr>\n",
       "      <th>127</th>\n",
       "      <td>11.79</td>\n",
       "      <td>2.13</td>\n",
       "      <td>class_1</td>\n",
       "    </tr>\n",
       "    <tr>\n",
       "      <th>128</th>\n",
       "      <td>12.37</td>\n",
       "      <td>1.63</td>\n",
       "      <td>class_1</td>\n",
       "    </tr>\n",
       "    <tr>\n",
       "      <th>129</th>\n",
       "      <td>12.93</td>\n",
       "      <td>2.81</td>\n",
       "      <td>class_1</td>\n",
       "    </tr>\n",
       "  </tbody>\n",
       "</table>\n",
       "<p>130 rows × 3 columns</p>\n",
       "</div>"
      ],
      "text/plain": [
       "     alcohol  malic_acid    class\n",
       "0      14.23        1.71  class_0\n",
       "1      13.20        1.78  class_0\n",
       "2      13.16        2.36  class_0\n",
       "3      14.37        1.95  class_0\n",
       "4      13.24        2.59  class_0\n",
       "..       ...         ...      ...\n",
       "125    12.07        2.16  class_1\n",
       "126    12.43        1.53  class_1\n",
       "127    11.79        2.13  class_1\n",
       "128    12.37        1.63  class_1\n",
       "129    12.93        2.81  class_1\n",
       "\n",
       "[130 rows x 3 columns]"
      ]
     },
     "execution_count": 14,
     "metadata": {},
     "output_type": "execute_result"
    }
   ],
   "source": [
    "df = X.join(pd.Series(Y, name='class'))\n",
    "\n",
    "#In this line, i created a DataFrame containing both the features and classes.\n",
    "\n",
    "df\n",
    "#So our dataset is now ready to proceed."
   ]
  },
  {
   "cell_type": "code",
   "execution_count": 15,
   "metadata": {},
   "outputs": [],
   "source": [
    "#LDA in 5 steps\n",
    "\n",
    "#Step 1: Computing the d-dimensional mean vectors.\n",
    "#Step 2: Computing the Scatter Matrices.\n",
    "#Step 3: Solving the generalized eigenvalue problem S_W(inv).S_B   # (Within-class scatter matrix)^-1 * (Between-class scatter matrix).\n",
    "#Step 4: Selecting linear discriminants for the new feature subspace.\n",
    "#Step 5: Transforming the samples onto the new subspace."
   ]
  },
  {
   "cell_type": "code",
   "execution_count": 16,
   "metadata": {},
   "outputs": [
    {
     "data": {
      "text/html": [
       "<div>\n",
       "<style scoped>\n",
       "    .dataframe tbody tr th:only-of-type {\n",
       "        vertical-align: middle;\n",
       "    }\n",
       "\n",
       "    .dataframe tbody tr th {\n",
       "        vertical-align: top;\n",
       "    }\n",
       "\n",
       "    .dataframe thead th {\n",
       "        text-align: right;\n",
       "    }\n",
       "</style>\n",
       "<table border=\"1\" class=\"dataframe\">\n",
       "  <thead>\n",
       "    <tr style=\"text-align: right;\">\n",
       "      <th></th>\n",
       "      <th>class_0</th>\n",
       "      <th>class_1</th>\n",
       "    </tr>\n",
       "  </thead>\n",
       "  <tbody>\n",
       "    <tr>\n",
       "      <th>alcohol</th>\n",
       "      <td>13.744746</td>\n",
       "      <td>12.291268</td>\n",
       "    </tr>\n",
       "    <tr>\n",
       "      <th>malic_acid</th>\n",
       "      <td>2.010678</td>\n",
       "      <td>1.911690</td>\n",
       "    </tr>\n",
       "  </tbody>\n",
       "</table>\n",
       "</div>"
      ],
      "text/plain": [
       "              class_0    class_1\n",
       "alcohol     13.744746  12.291268\n",
       "malic_acid   2.010678   1.911690"
      ]
     },
     "execution_count": 16,
     "metadata": {},
     "output_type": "execute_result"
    }
   ],
   "source": [
    "#Step 1: Computing the 2-dimensional mean vectors for each class.\n",
    "\n",
    "class_feature_means = pd.DataFrame(columns=wine1.target_names)\n",
    "for c, rows in df.groupby('class'):\n",
    "    class_feature_means[c] = rows.mean()\n",
    "    \n",
    "class_feature_means"
   ]
  },
  {
   "cell_type": "code",
   "execution_count": 17,
   "metadata": {},
   "outputs": [],
   "source": [
    "#Calculating S_W (Within-class scatter matrix). Dimensions must be equal, which is 2x2.\n",
    "\n",
    "within_class_scatter_matrix = np.zeros((2,2))\n",
    "for c, rows in df.groupby('class'):\n",
    "    rows = rows.drop(['class'], axis=1)\n",
    "    \n",
    "    S_W = np.zeros((2,2))\n"
   ]
  },
  {
   "cell_type": "code",
   "execution_count": 18,
   "metadata": {},
   "outputs": [],
   "source": [
    "index = 130 \n",
    "#130 = Number of rows in wine1 dataset."
   ]
  },
  {
   "cell_type": "code",
   "execution_count": 19,
   "metadata": {},
   "outputs": [
    {
     "name": "stdout",
     "output_type": "stream",
     "text": [
      "within_class_scatter_matrix:\n",
      " [[20.61438592  0.33824789]\n",
      " [ 0.33824789 67.33079718]]\n"
     ]
    }
   ],
   "source": [
    "#According to the S_W (Within-class scatter matrix) formula, we write the necessary code to implement this formula on python\n",
    "for index, row in rows.iterrows():\n",
    "        x  = row.values.reshape(2,1)\n",
    "        mc = class_feature_means[c].values.reshape(2,1)\n",
    "        \n",
    "        S_W += (x - mc).dot((x - mc).T)\n",
    "    \n",
    "        within_class_scatter_matrix += S_W\n",
    "print('within_class_scatter_matrix:\\n', S_W)"
   ]
  },
  {
   "cell_type": "code",
   "execution_count": 20,
   "metadata": {},
   "outputs": [],
   "source": [
    "feature_means = df.mean()\n",
    "between_class_scatter_matrix = np.zeros((2,2))\n",
    "S_B = np.zeros((2,2))"
   ]
  },
  {
   "cell_type": "code",
   "execution_count": 21,
   "metadata": {},
   "outputs": [
    {
     "name": "stdout",
     "output_type": "stream",
     "text": [
      "between_class_scatter_matrix:\n",
      " [[68.07443213  4.6361481 ]\n",
      " [ 4.6361481   0.3157407 ]]\n"
     ]
    }
   ],
   "source": [
    "#According to the S_B (Between-class scatter matrix) formula, we write the necessary code to implement this formula on python.\n",
    "for c in class_feature_means:    \n",
    "    n = len(df.loc[df['class'] == c].index)\n",
    "    \n",
    "    mc = class_feature_means[c].values.reshape(2,1) \n",
    "    m  =  feature_means.values.reshape(2,1)\n",
    "    \n",
    "    S_B += (n * (mc - m).dot((mc - m).T))\n",
    "    \n",
    "    between_class_scatter_matrix += S_B\n",
    "    \n",
    "print('between_class_scatter_matrix:\\n', S_B)"
   ]
  },
  {
   "cell_type": "code",
   "execution_count": 22,
   "metadata": {},
   "outputs": [
    {
     "name": "stdout",
     "output_type": "stream",
     "text": [
      "Eigenvalues:\n",
      " [0.13147348 0.        ]\n",
      "Eigenvectors:\n",
      " [[ 0.99239568 -0.06794671]\n",
      " [ 0.12308868  0.99768895]]\n"
     ]
    }
   ],
   "source": [
    "#Step 3: Solving the generalized eigenvalue problem S_W(inv).S_B   # (Within-class scatter matrix)^-1 * (Between-class scatter matrix).\n",
    "\n",
    "#we solve the generalized eigenvalue problem for to obtain the linear discriminants.\n",
    "\n",
    "eigen_values, eigen_vectors = np.linalg.eig(np.linalg.inv(within_class_scatter_matrix).dot(between_class_scatter_matrix))\n",
    "print('Eigenvalues:\\n', eigen_values)\n",
    "print('Eigenvectors:\\n', eigen_vectors)"
   ]
  },
  {
   "cell_type": "code",
   "execution_count": 23,
   "metadata": {},
   "outputs": [
    {
     "name": "stdout",
     "output_type": "stream",
     "text": [
      "0.13147348082931057\n",
      "0.0\n"
     ]
    }
   ],
   "source": [
    "#Step 4: Selecting linear discriminants for the new feature subspace.\n",
    "\n",
    "#The eigenvectors with the highest eigenvalues carry the most information about the distribution of the data. \n",
    "#Thus, we sort the eigenvalues from highest to lowest and select the first two eigenvectors. \n",
    "#In order to ensure that the eigenvalue maps to the same eigenvector after sorting, we place them in a temporary array.\n",
    "\n",
    "pairs = [(np.abs(eigen_values[i]), eigen_vectors[:,i]) for i in range(len(eigen_values))]\n",
    "pairs = sorted(pairs, key=lambda x: x[0], reverse=True)\n",
    "for pair in pairs:\n",
    "    print(pair[0])"
   ]
  },
  {
   "cell_type": "code",
   "execution_count": 24,
   "metadata": {},
   "outputs": [
    {
     "name": "stdout",
     "output_type": "stream",
     "text": [
      "Explained Variance\n",
      "Eigenvector 0: 1.0\n",
      "Eigenvector 1: 0.0\n"
     ]
    }
   ],
   "source": [
    "#Let’s express the “explained variance” as percentage.\n",
    "\n",
    "eigen_value_sums = sum(eigen_values)\n",
    "print('Explained Variance')\n",
    "for i, pair in enumerate(pairs):\n",
    "    print('Eigenvector {}: {}'.format(i, (pair[0]/eigen_value_sums).real))"
   ]
  },
  {
   "cell_type": "code",
   "execution_count": 25,
   "metadata": {},
   "outputs": [
    {
     "name": "stdout",
     "output_type": "stream",
     "text": [
      "W_Matrix:\n",
      " [[ 0.99239568 -0.06794671]\n",
      " [ 0.12308868  0.99768895]]\n"
     ]
    }
   ],
   "source": [
    "#Eigenvector matrix W.\n",
    "#Transformation Matrix\n",
    "\n",
    "w_matrix = np.hstack((pairs[0][1].reshape(2,1), pairs[1][1].reshape(2,1))).real\n",
    "print('W_Matrix:\\n', w_matrix)"
   ]
  },
  {
   "cell_type": "code",
   "execution_count": 26,
   "metadata": {},
   "outputs": [],
   "source": [
    "#Step 5: Transforming the samples onto the new subspace.\n",
    "\n",
    "X_lda = np.array(X.dot(w_matrix))"
   ]
  },
  {
   "cell_type": "code",
   "execution_count": 27,
   "metadata": {},
   "outputs": [],
   "source": [
    "le = LabelEncoder()\n",
    "Y = le.fit_transform(df['class'])\n",
    "\n",
    "#This line is to represent every class as a number so that we can incorporate the class labels into our plot. "
   ]
  },
  {
   "cell_type": "code",
   "execution_count": 29,
   "metadata": {},
   "outputs": [
    {
     "data": {
      "text/plain": [
       "<matplotlib.collections.PathCollection at 0x1be436bad60>"
      ]
     },
     "execution_count": 29,
     "metadata": {},
     "output_type": "execute_result"
    },
    {
     "data": {
      "image/png": "[encoded data removed]",
      "text/plain": [
       "<Figure size 432x288 with 1 Axes>"
      ]
     },
     "metadata": {},
     "output_type": "display_data"
    }
   ],
   "source": [
    "plt.xlabel('LD_1')\n",
    "plt.ylabel('LD_2')\n",
    "plt.scatter(\n",
    "    X_lda[:,0],\n",
    "    X_lda[:,1],\n",
    "    c=Y,\n",
    "    cmap='rainbow',\n",
    "    alpha=0.7,\n",
    "    edgecolors='b'\n",
    ")"
   ]
  },
  {
   "cell_type": "code",
   "execution_count": 28,
   "metadata": {},
   "outputs": [],
   "source": [
    "#In conclusion, LinearDiscriminant_1 does it's job very efficiently for my opinion unlike LinearDiscriminant_2.\n",
    "#LD_1 separates the classes nicely. \n",
    "#LD_2 however, doesn't give us any valuable information, which we can conclude when we look at the eigenvalues at step 4."
   ]
  },
  {
   "cell_type": "code",
   "execution_count": 30,
   "metadata": {},
   "outputs": [
    {
     "data": {
      "text/plain": [
       "<matplotlib.collections.PathCollection at 0x1be4371f700>"
      ]
     },
     "execution_count": 30,
     "metadata": {},
     "output_type": "execute_result"
    },
    {
     "data": {
      "image/png": "[encoded data removed]",
      "text/plain": [
       "<Figure size 432x288 with 1 Axes>"
      ]
     },
     "metadata": {},
     "output_type": "display_data"
    }
   ],
   "source": [
    "plt.xlabel('LD_1')\n",
    "plt.ylabel('LD_2')\n",
    "plt.scatter(\n",
    "    X_lda[:,0],\n",
    "    X_lda[:,0],\n",
    "    c=Y,\n",
    "    cmap='rainbow',\n",
    "    alpha=0.7,\n",
    "    edgecolors='b'\n",
    ")"
   ]
  },
  {
   "cell_type": "code",
   "execution_count": null,
   "metadata": {},
   "outputs": [],
   "source": []
  }
 ],
 "metadata": {
  "kernelspec": {
   "display_name": "Python 3 (ipykernel)",
   "language": "python",
   "name": "python3"
  },
  "language_info": {
   "codemirror_mode": {
    "name": "ipython",
    "version": 3
   },
   "file_extension": ".py",
   "mimetype": "text/x-python",
   "name": "python",
   "nbconvert_exporter": "python",
   "pygments_lexer": "ipython3",
   "version": "3.8.12"
  }
 },
 "nbformat": 4,
 "nbformat_minor": 4
}
